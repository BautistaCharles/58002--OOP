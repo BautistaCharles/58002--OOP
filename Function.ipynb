{
  "nbformat": 4,
  "nbformat_minor": 0,
  "metadata": {
    "colab": {
      "provenance": [],
      "authorship_tag": "ABX9TyNQ08tceUMPmNBp6r0kJaFR",
      "include_colab_link": true
    },
    "kernelspec": {
      "name": "python3",
      "display_name": "Python 3"
    },
    "language_info": {
      "name": "python"
    }
  },
  "cells": [
    {
      "cell_type": "markdown",
      "metadata": {
        "id": "view-in-github",
        "colab_type": "text"
      },
      "source": [
        "<a href=\"https://colab.research.google.com/github/BautistaCharles/58002--OOP/blob/main/Function.ipynb\" target=\"_parent\"><img src=\"https://colab.research.google.com/assets/colab-badge.svg\" alt=\"Open In Colab\"/></a>"
      ]
    },
    {
      "cell_type": "code",
      "execution_count": 7,
      "metadata": {
        "colab": {
          "base_uri": "https://localhost:8080/"
        },
        "id": "4y-ohP9Fziv_",
        "outputId": "689f24b6-c724-4709-fdba-db9f10d016b0"
      },
      "outputs": [
        {
          "output_type": "execute_result",
          "data": {
            "text/plain": [
              "100"
            ]
          },
          "metadata": {},
          "execution_count": 7
        }
      ],
      "source": [
        "class shape:\n",
        "  def __init__(self, lenght, width):\n",
        "    self.lenght = lenght\n",
        "    self.width = lenght\n",
        "\n",
        "  def area_rec(self):\n",
        "    return self.lenght * self.width\n",
        "#def area_sqr(self):\n",
        "  #return self.side * self.side\n",
        "\n",
        "rectangle = shape(10,5)\n",
        "rectangle.area_rec()"
      ]
    },
    {
      "cell_type": "markdown",
      "source": [
        "Create a function that will display your full name and name your class as Person"
      ],
      "metadata": {
        "id": "UuQz8Bl03xi_"
      }
    },
    {
      "cell_type": "code",
      "source": [
        "def name():\n",
        "  return \"Charles Ryan V. Bautista\"\n",
        "def classroom():\n",
        "  return \"CPE 102\"\n",
        "print(\"My name is \" + name() + \" and my Class is \" + classroom())\n",
        "  "
      ],
      "metadata": {
        "colab": {
          "base_uri": "https://localhost:8080/"
        },
        "id": "kzGaJMnP4SN3",
        "outputId": "06c4460a-5e1b-4225-d4cc-7832382f102b"
      },
      "execution_count": 19,
      "outputs": [
        {
          "output_type": "stream",
          "name": "stdout",
          "text": [
            "My name is Charles Ryan V. Bautista and my Class is CPE 102\n"
          ]
        }
      ]
    }
  ]
}