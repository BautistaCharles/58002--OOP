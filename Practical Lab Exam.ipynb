{
  "nbformat": 4,
  "nbformat_minor": 0,
  "metadata": {
    "colab": {
      "provenance": [],
      "authorship_tag": "ABX9TyP7o5KXynu7TXKqqgWzcLQw",
      "include_colab_link": true
    },
    "kernelspec": {
      "name": "python3",
      "display_name": "Python 3"
    },
    "language_info": {
      "name": "python"
    }
  },
  "cells": [
    {
      "cell_type": "markdown",
      "metadata": {
        "id": "view-in-github",
        "colab_type": "text"
      },
      "source": [
        "<a href=\"https://colab.research.google.com/github/BautistaCharles/58002--OOP/blob/main/Practical%20Lab%20Exam.ipynb\" target=\"_parent\"><img src=\"https://colab.research.google.com/assets/colab-badge.svg\" alt=\"Open In Colab\"/></a>"
      ]
    },
    {
      "cell_type": "code",
      "execution_count": 7,
      "metadata": {
        "colab": {
          "base_uri": "https://localhost:8080/"
        },
        "id": "Ikq4VMWoTHu2",
        "outputId": "2f0697ed-3489-4ff3-bceb-e35fad1dbe0b"
      },
      "outputs": [
        {
          "output_type": "stream",
          "name": "stdout",
          "text": [
            "186\n"
          ]
        }
      ],
      "source": [
        "def add_even_scores(scores):\n",
        "    total = 0\n",
        "    for score in scores:\n",
        "        if score % 2 == 0:\n",
        "            total += score\n",
        "    return total\n",
        "\n",
        "scores = [26, 49, 98, 87, 62, 75]\n",
        "total_even_scores = add_even_scores(scores)\n",
        "print(total_even_scores)\n"
      ]
    }
  ]
}