{
  "cells": [
    {
      "cell_type": "markdown",
      "metadata": {
        "id": "view-in-github",
        "colab_type": "text"
      },
      "source": [
        "<a href=\"https://colab.research.google.com/github/BautistaCharles/58002--OOP/blob/main/Control_Structure.ipynb\" target=\"_parent\"><img src=\"https://colab.research.google.com/assets/colab-badge.svg\" alt=\"Open In Colab\"/></a>"
      ]
    },
    {
      "cell_type": "code",
      "execution_count": null,
      "metadata": {
        "id": "W1IDDzerjgrG"
      },
      "outputs": [],
      "source": []
    },
    {
      "cell_type": "code",
      "execution_count": null,
      "metadata": {
        "colab": {
          "base_uri": "https://localhost:8080/"
        },
        "id": "UdOaRpsplFoU",
        "outputId": "2e1efd6e-48e9-484c-beb4-689dd68a4333"
      },
      "outputs": [
        {
          "name": "stdout",
          "output_type": "stream",
          "text": [
            "A is greater then B\n"
          ]
        }
      ],
      "source": [
        "#If Statement\n",
        "a = 100\n",
        "b = 50\n",
        "if a>b:\n",
        "  print(\"A is greater then B\")"
      ]
    },
    {
      "cell_type": "code",
      "execution_count": null,
      "metadata": {
        "colab": {
          "base_uri": "https://localhost:8080/"
        },
        "id": "OkC9Kajmlk7M",
        "outputId": "5024ae48-e27d-4c6e-9f24-7162d62517db"
      },
      "outputs": [
        {
          "name": "stdout",
          "output_type": "stream",
          "text": [
            "A is less than B\n"
          ]
        }
      ],
      "source": [
        "#Elif Statment\n",
        "a = 10\n",
        "b = 50\n",
        "if a>b:\n",
        "  print(\"A is greater then B\")\n",
        "elif a<b:\n",
        "  print(\"A is less than B\")\n",
        "else:\n",
        "  print(\"A is equal to B\")"
      ]
    },
    {
      "cell_type": "markdown",
      "metadata": {
        "id": "tGa6BekPmR2E"
      },
      "source": [
        "Short Hand if.."
      ]
    },
    {
      "cell_type": "code",
      "execution_count": null,
      "metadata": {
        "colab": {
          "base_uri": "https://localhost:8080/"
        },
        "id": "IT_uxm9VmT6s",
        "outputId": "a1dc26e4-c212-4162-cf4a-601c4b60cc81"
      },
      "outputs": [
        {
          "name": "stdout",
          "output_type": "stream",
          "text": [
            "A is less than B\n"
          ]
        }
      ],
      "source": [
        "print(\"A is greated then B\") if a>b else print(\"A is less than B\")"
      ]
    },
    {
      "cell_type": "markdown",
      "metadata": {
        "id": "ZbLJoXSJnyKr"
      },
      "source": [
        "And Condition"
      ]
    },
    {
      "cell_type": "code",
      "execution_count": null,
      "metadata": {
        "colab": {
          "base_uri": "https://localhost:8080/"
        },
        "id": "n9lPMdRknz5K",
        "outputId": "436d57cf-276a-4d7d-e1b4-0f69535e762b"
      },
      "outputs": [
        {
          "name": "stdout",
          "output_type": "stream",
          "text": [
            "S > T\n"
          ]
        }
      ],
      "source": [
        "s = 75\n",
        "t = 70\n",
        "\n",
        "if s>t and t<s:\n",
        "  print(\"S > T\")"
      ]
    },
    {
      "cell_type": "markdown",
      "metadata": {
        "id": "Nys_OGnAp5u5"
      },
      "source": [
        "Nested if"
      ]
    },
    {
      "cell_type": "code",
      "execution_count": null,
      "metadata": {
        "colab": {
          "base_uri": "https://localhost:8080/"
        },
        "id": "OuXfCL2op4sC",
        "outputId": "12ba4eca-3540-4d5a-b0a8-b80bf23cf873"
      },
      "outputs": [
        {
          "name": "stdout",
          "output_type": "stream",
          "text": [
            "Above ten\n",
            "and also above 20!\n",
            "and also above 30!\n",
            "and also above 40!\n"
          ]
        }
      ],
      "source": [
        "x=41\n",
        "\n",
        "if x>10:\n",
        "  print(\"Above ten\")\n",
        "  if x>20:\n",
        "    print(\"and also above 20!\")\n",
        "    if x>30:\n",
        "      print(\"and also above 30!\")\n",
        "      if x>40:\n",
        "        print(\"and also above 40!\")\n",
        "      else:\n",
        "        print(\"but not above 40.\")\n",
        "    else:\n",
        "      print(\"but not above 30.\")\n",
        "  else:\n",
        "    print(\"but not above 20.\")\n",
        "else:\n",
        "  print(\"but not above 10.\")"
      ]
    },
    {
      "cell_type": "markdown",
      "metadata": {
        "id": "fxWTicWPt5si"
      },
      "source": [
        "Example 1"
      ]
    },
    {
      "cell_type": "code",
      "execution_count": null,
      "metadata": {
        "colab": {
          "base_uri": "https://localhost:8080/"
        },
        "id": "hEkKsta_t8li",
        "outputId": "ef2bbb14-a101-4df4-ff8c-2f9cd9105429"
      },
      "outputs": [
        {
          "name": "stdout",
          "output_type": "stream",
          "text": [
            "18\n",
            "You are now legal to vote!\n"
          ]
        }
      ],
      "source": [
        "x=int(input())\n",
        "if x>=18:\n",
        "  print(\"You are now legal to vote!\")\n",
        "else:\n",
        "  print(\"You are not legal to vote!\")"
      ]
    },
    {
      "cell_type": "markdown",
      "metadata": {
        "id": "6Wpjd-6_uMgK"
      },
      "source": [
        "Example 2"
      ]
    },
    {
      "cell_type": "code",
      "execution_count": null,
      "metadata": {
        "colab": {
          "base_uri": "https://localhost:8080/"
        },
        "id": "r_N8QGvYuNcy",
        "outputId": "2ae6c994-072e-4a8a-9a13-f10f9f724fc3"
      },
      "outputs": [
        {
          "name": "stdout",
          "output_type": "stream",
          "text": [
            "-46\n",
            "It is Negative!\n"
          ]
        }
      ],
      "source": [
        "x=int(input())\n",
        "if x>0:\n",
        "  print(\"It is Positive!\")\n",
        "elif x==0:\n",
        "  print(\"It is Zero!\")\n",
        "else:\n",
        "  print(\"It is Negative!\")"
      ]
    },
    {
      "cell_type": "markdown",
      "metadata": {
        "id": "3fSe_QM5u_KR"
      },
      "source": [
        "Example 3"
      ]
    },
    {
      "cell_type": "code",
      "execution_count": 6,
      "metadata": {
        "colab": {
          "base_uri": "https://localhost:8080/"
        },
        "id": "8_JHAU2lvALy",
        "outputId": "31f4cab2-98f2-47ef-cf30-eafa686a5225"
      },
      "outputs": [
        {
          "output_type": "stream",
          "name": "stdout",
          "text": [
            "67\n",
            "Remidial!\n"
          ]
        }
      ],
      "source": [
        "x=int(input())\n",
        "if x>=70:\n",
        "  print(\"Passed!\")\n",
        "elif x<=0:\n",
        " print(\"Null!\")\n",
        "elif x<=64:\n",
        "  print(\"Failed\")\n",
        "else:\n",
        "  print(\"Remidial!\")\n"
      ]
    }
  ],
  "metadata": {
    "colab": {
      "provenance": [],
      "authorship_tag": "ABX9TyNp/IriZC1cK31XwKHYWgLL",
      "include_colab_link": true
    },
    "kernelspec": {
      "display_name": "Python 3",
      "name": "python3"
    },
    "language_info": {
      "name": "python"
    }
  },
  "nbformat": 4,
  "nbformat_minor": 0
}