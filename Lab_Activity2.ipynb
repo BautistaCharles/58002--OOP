{
  "nbformat": 4,
  "nbformat_minor": 0,
  "metadata": {
    "colab": {
      "provenance": [],
      "authorship_tag": "ABX9TyP/OwWv/GfpGyiCaQheQz/d",
      "include_colab_link": true
    },
    "kernelspec": {
      "name": "python3",
      "display_name": "Python 3"
    },
    "language_info": {
      "name": "python"
    }
  },
  "cells": [
    {
      "cell_type": "markdown",
      "metadata": {
        "id": "view-in-github",
        "colab_type": "text"
      },
      "source": [
        "<a href=\"https://colab.research.google.com/github/BautistaCharles/58002--OOP/blob/main/Lab_Activity2.ipynb\" target=\"_parent\"><img src=\"https://colab.research.google.com/assets/colab-badge.svg\" alt=\"Open In Colab\"/></a>"
      ]
    },
    {
      "cell_type": "code",
      "execution_count": 3,
      "metadata": {
        "colab": {
          "base_uri": "https://localhost:8080/"
        },
        "id": "8RNIwQgCBy62",
        "outputId": "bce0e375-c479-4fe3-a072-c8d1bdb60a1c"
      },
      "outputs": [
        {
          "output_type": "stream",
          "name": "stdout",
          "text": [
            "Radius: 24\n",
            "1808.64\n",
            "150.72\n"
          ]
        }
      ],
      "source": [
        "class Circle():\n",
        "  def __init__(self, r):\n",
        "    self.radius = r\n",
        "  \n",
        "  def area(self):\n",
        "    return self.radius**2*3.14\n",
        "  \n",
        "  def perimeter(self):\n",
        "    return 2*self.radius*3.14\n",
        "\n",
        "r=int(input(\"Radius: \"))  \n",
        "NewCircle = Circle(r)\n",
        "print(NewCircle.area())\n",
        "print(NewCircle.perimeter())"
      ]
    }
  ]
}