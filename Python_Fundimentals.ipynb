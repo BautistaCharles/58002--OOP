{
  "nbformat": 4,
  "nbformat_minor": 0,
  "metadata": {
    "colab": {
      "provenance": [],
      "authorship_tag": "ABX9TyOJNtksiVG6jrlB4qXkB766",
      "include_colab_link": true
    },
    "kernelspec": {
      "name": "python3",
      "display_name": "Python 3"
    },
    "language_info": {
      "name": "python"
    }
  },
  "cells": [
    {
      "cell_type": "markdown",
      "metadata": {
        "id": "view-in-github",
        "colab_type": "text"
      },
      "source": [
        "<a href=\"https://colab.research.google.com/github/BautistaCharles/58002--OOP/blob/main/Python_Fundimentals.ipynb\" target=\"_parent\"><img src=\"https://colab.research.google.com/assets/colab-badge.svg\" alt=\"Open In Colab\"/></a>"
      ]
    },
    {
      "cell_type": "code",
      "execution_count": null,
      "metadata": {
        "id": "v_A4qRfBweyA"
      },
      "outputs": [],
      "source": []
    },
    {
      "cell_type": "markdown",
      "source": [
        "Python Invitation"
      ],
      "metadata": {
        "id": "fBNHq7Z1wuHq"
      }
    },
    {
      "cell_type": "code",
      "source": [
        "if 5>2:\n",
        "  print(\"5>2\")"
      ],
      "metadata": {
        "colab": {
          "base_uri": "https://localhost:8080/"
        },
        "id": "VJZpkryQw05R",
        "outputId": "214bb1f1-149e-43d8-f24b-a88544249550"
      },
      "execution_count": 5,
      "outputs": [
        {
          "output_type": "stream",
          "name": "stdout",
          "text": [
            "5>2\n"
          ]
        }
      ]
    },
    {
      "cell_type": "markdown",
      "source": [
        "Python Comment"
      ],
      "metadata": {
        "id": "icGlCLqTyAZA"
      }
    },
    {
      "cell_type": "code",
      "source": [
        "#This is a comment\n",
        "print(\"Hello_World\")"
      ],
      "metadata": {
        "colab": {
          "base_uri": "https://localhost:8080/"
        },
        "id": "Oo9O_FFVyCOI",
        "outputId": "84d09bc7-d5f6-46e4-cc4e-26ebdbd44aeb"
      },
      "execution_count": 7,
      "outputs": [
        {
          "output_type": "stream",
          "name": "stdout",
          "text": [
            "Hello_World\n"
          ]
        }
      ]
    },
    {
      "cell_type": "markdown",
      "source": [
        "Naming Variable"
      ],
      "metadata": {
        "id": "8DNk7af2yPoA"
      }
    },
    {
      "cell_type": "code",
      "source": [
        "#Single Variable with single value\n",
        "x = 1 \n",
        "y = 2\n",
        "print(x)\n",
        "print(y)\n",
        "\n",
        "#Multiple variable with single value\n",
        "a = b = c = \"Maria\"\n",
        "print(a)\n",
        "print(b)\n",
        "print(c)\n",
        "\n",
        "#Multiple Variable with multiple value\n",
        "e, f, g=1,2,3 \n",
        "print(e)\n",
        "print(f)\n",
        "print(g)\n",
        "\n"
      ],
      "metadata": {
        "colab": {
          "base_uri": "https://localhost:8080/"
        },
        "id": "UZskTMOdyR3g",
        "outputId": "122d3979-3d43-47c6-914b-a0d2ca4f4300"
      },
      "execution_count": 15,
      "outputs": [
        {
          "output_type": "stream",
          "name": "stdout",
          "text": [
            "1\n",
            "2\n",
            "Maria\n",
            "Maria\n",
            "Maria\n",
            "1\n",
            "2\n",
            "3\n"
          ]
        }
      ]
    },
    {
      "cell_type": "markdown",
      "source": [
        "Singe or Double"
      ],
      "metadata": {
        "id": "sOObYZGI04Pu"
      }
    },
    {
      "cell_type": "code",
      "source": [
        "v = \"Sally\"\n",
        "u = 'Sally'\n",
        "print (v)\n",
        "print (u)"
      ],
      "metadata": {
        "colab": {
          "base_uri": "https://localhost:8080/"
        },
        "id": "eY0vq3B805wW",
        "outputId": "50718b54-0afb-4574-ced4-7001e5c41f22"
      },
      "execution_count": 16,
      "outputs": [
        {
          "output_type": "stream",
          "name": "stdout",
          "text": [
            "Sally\n",
            "Sally\n"
          ]
        }
      ]
    },
    {
      "cell_type": "markdown",
      "source": [
        "Casting"
      ],
      "metadata": {
        "id": "3zMk6ObW1GUv"
      }
    },
    {
      "cell_type": "code",
      "source": [
        "p = float(5)\n",
        "p"
      ],
      "metadata": {
        "colab": {
          "base_uri": "https://localhost:8080/"
        },
        "id": "bvhhYO751Bg-",
        "outputId": "f02511a1-f9f5-438f-9ccd-c211eb55a6e1"
      },
      "execution_count": 18,
      "outputs": [
        {
          "output_type": "execute_result",
          "data": {
            "text/plain": [
              "5.0"
            ]
          },
          "metadata": {},
          "execution_count": 18
        }
      ]
    },
    {
      "cell_type": "markdown",
      "source": [
        "Type() function"
      ],
      "metadata": {
        "id": "spplQhD21kf_"
      }
    },
    {
      "cell_type": "code",
      "source": [
        "f = \"Anna\"\n",
        "g = 4.56\n",
        "\n",
        "print(type(f))\n",
        "print(type(g))"
      ],
      "metadata": {
        "colab": {
          "base_uri": "https://localhost:8080/"
        },
        "id": "p85Gor9117Lm",
        "outputId": "7724f0cd-852f-4c1f-e678-4d2df789f34a"
      },
      "execution_count": 20,
      "outputs": [
        {
          "output_type": "stream",
          "name": "stdout",
          "text": [
            "<class 'str'>\n",
            "<class 'float'>\n"
          ]
        }
      ]
    },
    {
      "cell_type": "markdown",
      "source": [
        "Concalculation using + symbol"
      ],
      "metadata": {
        "id": "3rnlE9JU27Be"
      }
    },
    {
      "cell_type": "code",
      "source": [
        "k = \"enjoying\"\n",
        "j = \"Python Programming is \"\n",
        "print(j+k)\n",
        "print(\"Python Programming is \" + k)"
      ],
      "metadata": {
        "colab": {
          "base_uri": "https://localhost:8080/"
        },
        "id": "6GDuK-oB3CnG",
        "outputId": "7facc97c-6d17-42b7-cfc0-a02b760bad47"
      },
      "execution_count": 25,
      "outputs": [
        {
          "output_type": "stream",
          "name": "stdout",
          "text": [
            "Python Programming is enjoying\n",
            "Python Programming is enjoying\n"
          ]
        }
      ]
    }
  ]
}