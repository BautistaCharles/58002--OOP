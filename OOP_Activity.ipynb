{
  "nbformat": 4,
  "nbformat_minor": 0,
  "metadata": {
    "colab": {
      "provenance": [],
      "authorship_tag": "ABX9TyOpS8HctR7YyBrg9b0fozLa",
      "include_colab_link": true
    },
    "kernelspec": {
      "name": "python3",
      "display_name": "Python 3"
    },
    "language_info": {
      "name": "python"
    }
  },
  "cells": [
    {
      "cell_type": "markdown",
      "metadata": {
        "id": "view-in-github",
        "colab_type": "text"
      },
      "source": [
        "<a href=\"https://colab.research.google.com/github/BautistaCharles/58002--OOP/blob/main/OOP_Activity.ipynb\" target=\"_parent\"><img src=\"https://colab.research.google.com/assets/colab-badge.svg\" alt=\"Open In Colab\"/></a>"
      ]
    },
    {
      "cell_type": "code",
      "execution_count": 1,
      "metadata": {
        "colab": {
          "base_uri": "https://localhost:8080/"
        },
        "id": "Q9niZUqaPPR4",
        "outputId": "df038445-bc72-4102-e174-50b659f0a1cb"
      },
      "outputs": [
        {
          "output_type": "stream",
          "name": "stdout",
          "text": [
            "Enter your full name: Charles\n",
            "Enter your age: 19\n",
            "Enter your school: Adamson\n",
            "Name:  Charles\n",
            "Age:  19\n",
            "School:  Adamson\n"
          ]
        }
      ],
      "source": [
        "def identify():\n",
        "    name = input(\"Enter your full name: \")\n",
        "    age = input(\"Enter your age: \")\n",
        "    school = input(\"Enter your school: \")\n",
        "    print(\"Name: \", name)\n",
        "    print(\"Age: \", age)\n",
        "    print(\"School: \", school)\n",
        "\n",
        "identify()"
      ]
    }
  ]
}