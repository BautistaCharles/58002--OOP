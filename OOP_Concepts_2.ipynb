{
  "nbformat": 4,
  "nbformat_minor": 0,
  "metadata": {
    "colab": {
      "provenance": [],
      "authorship_tag": "ABX9TyPertaxJ2YFyI9M9vmfGQQ+",
      "include_colab_link": true
    },
    "kernelspec": {
      "name": "python3",
      "display_name": "Python 3"
    },
    "language_info": {
      "name": "python"
    }
  },
  "cells": [
    {
      "cell_type": "markdown",
      "metadata": {
        "id": "view-in-github",
        "colab_type": "text"
      },
      "source": [
        "<a href=\"https://colab.research.google.com/github/BautistaCharles/58002--OOP/blob/main/OOP_Concepts_2.ipynb\" target=\"_parent\"><img src=\"https://colab.research.google.com/assets/colab-badge.svg\" alt=\"Open In Colab\"/></a>"
      ]
    },
    {
      "cell_type": "markdown",
      "source": [
        "#Class with multiple objects"
      ],
      "metadata": {
        "id": "aU_G85aK9HLX"
      }
    },
    {
      "cell_type": "code",
      "source": [
        "class birds:\n",
        "  def __init__(self,name_birds):\n",
        "    self.name_birds = name_birds\n",
        "  def flying_birds(self):\n",
        "    print(f\"the {self.name_birds} is the flying bird above the sky\")\n",
        "  def non_flying_birds(self):\n",
        "    print(f\"the {self.name_birds} is the non flying bird\")\n",
        "\n",
        "eagle = birds(\"eagle\")\n",
        "chicken = birds(\"chicken\")\n",
        "eagle.flying_birds()\n",
        "chicken.non_flying_birds()"
      ],
      "metadata": {
        "colab": {
          "base_uri": "https://localhost:8080/"
        },
        "id": "GKCy9-XM9PvW",
        "outputId": "53ab1d26-5c4b-40c0-fc40-6d3f1ea2c443"
      },
      "execution_count": 22,
      "outputs": [
        {
          "output_type": "stream",
          "name": "stdout",
          "text": [
            "theeagle is the flying bird above the sky\n",
            "thechicken is the non flying bird\n"
          ]
        }
      ]
    },
    {
      "cell_type": "markdown",
      "source": [
        "#Encapsulation"
      ],
      "metadata": {
        "id": "XGqAvxbV-ag_"
      }
    },
    {
      "cell_type": "code",
      "source": [
        "class foo:\n",
        "  def __init__(self,a,b):\n",
        "    self.a = a\n",
        "    self.b = b\n",
        "  def add(self):\n",
        "    return self.a + self.b\n",
        "  \n",
        "foo.object = foo(3,4)\n",
        "foo_object.add()\n",
        "foo_object.a = 7\n",
        "foo_object.add()"
      ],
      "metadata": {
        "colab": {
          "base_uri": "https://localhost:8080/"
        },
        "id": "wtlWHLLE_X09",
        "outputId": "27700d29-c3f3-4cdd-b7e7-046c9c5c96ab"
      },
      "execution_count": 41,
      "outputs": [
        {
          "output_type": "execute_result",
          "data": {
            "text/plain": [
              "11"
            ]
          },
          "metadata": {},
          "execution_count": 41
        }
      ]
    },
    {
      "cell_type": "markdown",
      "source": [
        "#Inheritance"
      ],
      "metadata": {
        "id": "dy1jNOPlBKwg"
      }
    },
    {
      "cell_type": "code",
      "source": [
        "class Person:\n",
        "  def __init__(self,name,birthdate):\n",
        "    self.name = name\n",
        "    self.birthdate = birthdate\n",
        "  def display(self):\n",
        "    print(\"My name is\",self.name)\n",
        "    print(\"My birthdate is\",self.birthdate)\n",
        "class Student(Person):\n",
        "  pass\n",
        "person = Person(\"Maria\",\"February 13,1990\")\n",
        "person.display()\n",
        "\n",
        "student = Student(\"Ana\",\"March 14, 1991\")\n",
        "student.display()"
      ],
      "metadata": {
        "colab": {
          "base_uri": "https://localhost:8080/"
        },
        "id": "PKuPPCmJBNMw",
        "outputId": "09b887fe-6e43-48b4-8ddb-3a41b400ceca"
      },
      "execution_count": 33,
      "outputs": [
        {
          "output_type": "stream",
          "name": "stdout",
          "text": [
            "My name is Maria\n",
            "My birthdate is February 13,1990\n",
            "My name is Ana\n",
            "My birthdate is March 14, 1991\n"
          ]
        }
      ]
    },
    {
      "cell_type": "code",
      "source": [
        "class Shape:\n",
        "  def __init__(self,name,side):\n",
        "    self.name = name\n",
        "    self.side = side\n",
        "  def display(self):\n",
        "    print(self.name,\"is the shape\")\n",
        "    print(f\"It has {self.side} amount of sides\")\n",
        "class Square(Shape):\n",
        "  pass\n",
        "class Heptagon(Shape):\n",
        "  pass\n",
        "class Pentagon(Shape):\n",
        "  pass\n",
        "class Hexagon(Shape):\n",
        "  pass\n",
        "\n",
        "shape = Shape(\"Traingle\",\"3\")\n",
        "shape.display()\n",
        "\n",
        "square = Square(\"Square\",\"4\")\n",
        "square.display()\n",
        "\n",
        "pentagon = Pentagon(\"Pentagon\",\"5\")\n",
        "pentagon.display()\n",
        "\n",
        "hexagon = Hexagon(\"Hexagon\",\"6\")\n",
        "hexagon.display()\n",
        "\n",
        "pentagon = Heptagon(\"Heptagon\",\"7\")\n",
        "pentagon.display()"
      ],
      "metadata": {
        "colab": {
          "base_uri": "https://localhost:8080/"
        },
        "id": "plAmEkvmGQ34",
        "outputId": "983dd491-441e-4f04-b6bf-341f4b75d6c7"
      },
      "execution_count": 44,
      "outputs": [
        {
          "output_type": "stream",
          "name": "stdout",
          "text": [
            "Traingle is the shape\n",
            "It has 3 amount of sides\n",
            "Square is the shape\n",
            "It has 4 amount of sides\n",
            "Pentagon is the shape\n",
            "It has 5 amount of sides\n",
            "Hexagon is the shape\n",
            "It has 6 amount of sides\n",
            "Heptagon is the shape\n",
            "It has 7 amount of sides\n"
          ]
        }
      ]
    }
  ]
}