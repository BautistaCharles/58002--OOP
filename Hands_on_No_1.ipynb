{
  "nbformat": 4,
  "nbformat_minor": 0,
  "metadata": {
    "colab": {
      "provenance": [],
      "authorship_tag": "ABX9TyMRMBBaXQ4P1E/Tt+QeRCEV",
      "include_colab_link": true
    },
    "kernelspec": {
      "name": "python3",
      "display_name": "Python 3"
    },
    "language_info": {
      "name": "python"
    }
  },
  "cells": [
    {
      "cell_type": "markdown",
      "metadata": {
        "id": "view-in-github",
        "colab_type": "text"
      },
      "source": [
        "<a href=\"https://colab.research.google.com/github/BautistaCharles/58002--OOP/blob/main/Hands_on_No_1.ipynb\" target=\"_parent\"><img src=\"https://colab.research.google.com/assets/colab-badge.svg\" alt=\"Open In Colab\"/></a>"
      ]
    },
    {
      "cell_type": "markdown",
      "source": [
        "Hands-on No.1"
      ],
      "metadata": {
        "id": "BTVvn-uE-FhL"
      }
    },
    {
      "cell_type": "code",
      "execution_count": 36,
      "metadata": {
        "colab": {
          "base_uri": "https://localhost:8080/"
        },
        "id": "tHwTaZEc9jY3",
        "outputId": "923e5fb4-c7ff-4ef2-d544-d078b33cf88c"
      },
      "outputs": [
        {
          "output_type": "stream",
          "name": "stdout",
          "text": [
            "The Grade of Bautista is in Prelim is 85 in Midterm is 89 and in Finals is 90 The average being 88.0\n",
            "The Grade of Badoy is in Prelim is 88 in Midterm is 92 and in Finals is 90 The average being 90.0\n",
            "The Grade of Novilla is in Prelim is 90 in Midterm is 90 and in Finals is 90 The average being 90.0\n"
          ]
        }
      ],
      "source": [
        "class Person():\n",
        "  def __init__(self, name, prelim, midterm, finals):\n",
        "    self.name = name\n",
        "    self.prelim = prelim\n",
        "    self.midterm = midterm\n",
        "    self.finals = finals\n",
        "\n",
        "  def Grade(self):\n",
        "    return (self.prelim+self.midterm+self.finals)/3\n",
        "\n",
        "  def display(self):\n",
        "    print(\"The Grade of\", self.name,\"is\", \"in Prelim is\", self.prelim, \"in Midterm is\", self.midterm, \"and in Finals is\", self.finals, \"The average being\", self.Grade())\n",
        "\n",
        "  class Bautista(Person):\n",
        "    pass\n",
        "  class Badoy(Person):\n",
        "    pass\n",
        "  class Novilla(Person):\n",
        "    pass\n",
        "\n",
        "Bautista = Person(\"Bautista\", 85, 89, 90)\n",
        "Bautista.display()\n",
        "Badoy = Person(\"Badoy\", 88, 92, 90)\n",
        "Badoy.display()\n",
        "Novilla = Person(\"Novilla\", 90, 90, 90)\n",
        "Novilla.display()"
      ]
    }
  ]
}